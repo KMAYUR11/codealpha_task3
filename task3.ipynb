{
 "cells": [
  {
   "cell_type": "code",
   "execution_count": 1,
   "id": "3d089a7f",
   "metadata": {},
   "outputs": [],
   "source": [
    "import pandas as pd\n",
    "import numpy as np"
   ]
  },
  {
   "cell_type": "code",
   "execution_count": 2,
   "id": "8ba7fc29",
   "metadata": {},
   "outputs": [],
   "source": [
    "test_set=pd.read_csv(\"emnist-letters-test.csv\")\n",
    "train_set=pd.read_csv(\"emnist-letters-train.csv\")"
   ]
  },
  {
   "cell_type": "code",
   "execution_count": 3,
   "id": "f8d106f3",
   "metadata": {},
   "outputs": [
    {
     "name": "stdout",
     "output_type": "stream",
     "text": [
      "(14799, 785)\n",
      "(88799, 785)\n"
     ]
    }
   ],
   "source": [
    "print(test_set.shape)\n",
    "print(train_set.shape)"
   ]
  },
  {
   "cell_type": "code",
   "execution_count": 4,
   "id": "9b5e4cd8",
   "metadata": {
    "scrolled": true
   },
   "outputs": [
    {
     "name": "stdout",
     "output_type": "stream",
     "text": [
      "(88799,)\n",
      "(88799, 784)\n"
     ]
    }
   ],
   "source": [
    "y1 = np.array(train_set.iloc[:,0].values)\n",
    "x1 = np.array(train_set.iloc[:,1:].values)\n",
    "#testing_labels\n",
    "y2 = np.array(test_set.iloc[:,0].values)\n",
    "x2 = np.array(test_set.iloc[:,1:].values)\n",
    "print(y1.shape)\n",
    "print(x1.shape)"
   ]
  },
  {
   "cell_type": "code",
   "execution_count": 12,
   "id": "b55a7bb1",
   "metadata": {},
   "outputs": [],
   "source": [
    "import tensorflow as tf"
   ]
  },
  {
   "cell_type": "code",
   "execution_count": 13,
   "id": "9a985828",
   "metadata": {},
   "outputs": [],
   "source": [
    "x1= x1.astype('float32') / 255\n",
    "x2= x2.astype('float32') / 255\n",
    "\n",
    "x1= x1.reshape((-1, 28, 28, 1))\n",
    "x2= x2.reshape((-1, 28, 28, 1))"
   ]
  },
  {
   "cell_type": "code",
   "execution_count": 15,
   "id": "2d84965e",
   "metadata": {},
   "outputs": [],
   "source": [
    "y1= tf.keras.utils.to_categorical(y1, 37)  # 37 classes (10 digits + 26 letters + 1 for unknown or garbage class)\n",
    "y2= tf.keras.utils.to_categorical(y2, 37)"
   ]
  },
  {
   "cell_type": "code",
   "execution_count": 20,
   "id": "44d56812-f1a5-4d68-ac12-33b8350836a0",
   "metadata": {},
   "outputs": [],
   "source": [
    "from sklearn.model_selection import train_test_split\n",
    "\n",
    "x_train, x_test, y_train, y_test = train_test_split(x1, y1,test_size=0.2,random_state = 42)\n",
    "     "
   ]
  },
  {
   "cell_type": "code",
   "execution_count": 21,
   "id": "88eee1f4-257e-470c-9201-e6d68686dae2",
   "metadata": {},
   "outputs": [],
   "source": [
    "model = tf.keras.Sequential([\n",
    "    tf.keras.layers.Conv2D(32, (3,3), activation=\"relu\", input_shape=(28,28,1)),\n",
    "    tf.keras.layers.MaxPooling2D(2,2),\n",
    "\n",
    "    tf.keras.layers.Conv2D(64, (3,3), activation=\"relu\"),\n",
    "    tf.keras.layers.MaxPooling2D(2,2),\n",
    "\n",
    "    tf.keras.layers.Conv2D(512,(3,3), padding=\"same\", activation=\"relu\"),\n",
    "    tf.keras.layers.MaxPooling2D((2,2)),\n",
    "\n",
    "    tf.keras.layers.Flatten(),\n",
    "    tf.keras.layers.Dropout(0.2),\n",
    "\n",
    "    tf.keras.layers.Dense(512,activation='relu'),\n",
    "    tf.keras.layers.Dense(128,activation='relu'),\n",
    "    tf.keras.layers.Dense(37,activation='softmax')\n",
    "])"
   ]
  },
  {
   "cell_type": "code",
   "execution_count": 22,
   "id": "1ba86191-2808-4c1c-9faf-66e0e4ec1fb2",
   "metadata": {},
   "outputs": [
    {
     "name": "stdout",
     "output_type": "stream",
     "text": [
      "Model: \"sequential\"\n",
      "_________________________________________________________________\n",
      " Layer (type)                Output Shape              Param #   \n",
      "=================================================================\n",
      " conv2d (Conv2D)             (None, 26, 26, 32)        320       \n",
      "                                                                 \n",
      " max_pooling2d (MaxPooling2D  (None, 13, 13, 32)       0         \n",
      " )                                                               \n",
      "                                                                 \n",
      " conv2d_1 (Conv2D)           (None, 11, 11, 64)        18496     \n",
      "                                                                 \n",
      " max_pooling2d_1 (MaxPooling  (None, 5, 5, 64)         0         \n",
      " 2D)                                                             \n",
      "                                                                 \n",
      " conv2d_2 (Conv2D)           (None, 5, 5, 512)         295424    \n",
      "                                                                 \n",
      " max_pooling2d_2 (MaxPooling  (None, 2, 2, 512)        0         \n",
      " 2D)                                                             \n",
      "                                                                 \n",
      " flatten (Flatten)           (None, 2048)              0         \n",
      "                                                                 \n",
      " dropout (Dropout)           (None, 2048)              0         \n",
      "                                                                 \n",
      " dense (Dense)               (None, 512)               1049088   \n",
      "                                                                 \n",
      " dense_1 (Dense)             (None, 128)               65664     \n",
      "                                                                 \n",
      " dense_2 (Dense)             (None, 37)                4773      \n",
      "                                                                 \n",
      "=================================================================\n",
      "Total params: 1,433,765\n",
      "Trainable params: 1,433,765\n",
      "Non-trainable params: 0\n",
      "_________________________________________________________________\n"
     ]
    }
   ],
   "source": [
    "model.summary()"
   ]
  },
  {
   "cell_type": "code",
   "execution_count": 23,
   "id": "a768ccca-0b61-44f4-bb81-742d278f5fb7",
   "metadata": {},
   "outputs": [],
   "source": [
    "model.compile(optimizer=\"Adam\",\n",
    "             loss=\"categorical_crossentropy\",\n",
    "             metrics=([\"accuracy\"]))"
   ]
  },
  {
   "cell_type": "code",
   "execution_count": 27,
   "id": "84114056-48bb-4010-bb48-e9907daf37a0",
   "metadata": {},
   "outputs": [],
   "source": [
    "from keras.callbacks import EarlyStopping \n",
    "early_stopping_callback= EarlyStopping(monitor='val_accuracy',\n",
    "                                       min_delta=0,\n",
    "                                       verbose=0,\n",
    "                                       restore_best_weights = True,\n",
    "                                       patience=3,\n",
    "                                       mode='max')"
   ]
  },
  {
   "cell_type": "code",
   "execution_count": 28,
   "id": "5cc2ac7d-a4d4-4a36-90d4-b8bc86b77ea9",
   "metadata": {},
   "outputs": [],
   "source": [
    "epochs = 15\n",
    "batch_size = 100"
   ]
  },
  {
   "cell_type": "code",
   "execution_count": 29,
   "id": "250ec18b-5df4-4972-83d6-d81892f4f9e2",
   "metadata": {},
   "outputs": [
    {
     "name": "stdout",
     "output_type": "stream",
     "text": [
      "Epoch 1/15\n",
      "711/711 [==============================] - 56s 77ms/step - loss: 0.6476 - accuracy: 0.7987 - val_loss: 0.2703 - val_accuracy: 0.9093\n",
      "Epoch 2/15\n",
      "711/711 [==============================] - 57s 81ms/step - loss: 0.2566 - accuracy: 0.9135 - val_loss: 0.2330 - val_accuracy: 0.9197\n",
      "Epoch 3/15\n",
      "711/711 [==============================] - 51s 72ms/step - loss: 0.2044 - accuracy: 0.9290 - val_loss: 0.2117 - val_accuracy: 0.9243\n",
      "Epoch 4/15\n",
      "711/711 [==============================] - 59s 83ms/step - loss: 0.1741 - accuracy: 0.9386 - val_loss: 0.2011 - val_accuracy: 0.9287\n",
      "Epoch 5/15\n",
      "711/711 [==============================] - 54s 76ms/step - loss: 0.1545 - accuracy: 0.9435 - val_loss: 0.1941 - val_accuracy: 0.9351\n",
      "Epoch 6/15\n",
      "711/711 [==============================] - 59s 83ms/step - loss: 0.1373 - accuracy: 0.9487 - val_loss: 0.1979 - val_accuracy: 0.9300\n",
      "Epoch 7/15\n",
      "711/711 [==============================] - 57s 79ms/step - loss: 0.1258 - accuracy: 0.9527 - val_loss: 0.1919 - val_accuracy: 0.9358\n",
      "Epoch 8/15\n",
      "711/711 [==============================] - 54s 75ms/step - loss: 0.1143 - accuracy: 0.9552 - val_loss: 0.2013 - val_accuracy: 0.9358\n",
      "Epoch 9/15\n",
      "711/711 [==============================] - 56s 79ms/step - loss: 0.1033 - accuracy: 0.9592 - val_loss: 0.2001 - val_accuracy: 0.9352\n",
      "Epoch 10/15\n",
      "711/711 [==============================] - 54s 76ms/step - loss: 0.0978 - accuracy: 0.9607 - val_loss: 0.2031 - val_accuracy: 0.9353\n"
     ]
    }
   ],
   "source": [
    "history = model.fit(x_train, y_train,\n",
    "                    epochs=epochs,\n",
    "                    batch_size=batch_size,\n",
    "                    validation_data=(x_test, y_test),\n",
    "                   verbose=1,\n",
    "                   callbacks=[early_stopping_callback])"
   ]
  },
  {
   "cell_type": "code",
   "execution_count": 30,
   "id": "34683c9d-3c26-4a6d-b784-cd5cbe99a229",
   "metadata": {},
   "outputs": [],
   "source": [
    "acc=history.history['accuracy']\n",
    "val_acc=history.history['val_accuracy']\n",
    "loss=history.history['loss']\n",
    "val_loss=history.history['val_loss']\n",
    "\n",
    "epochs=range(len(acc))"
   ]
  },
  {
   "cell_type": "code",
   "execution_count": 32,
   "id": "f0c511ed-3b49-4e86-9451-8028898ca53c",
   "metadata": {},
   "outputs": [
    {
     "data": {
      "image/png": "[encoded data removed]",
      "text/plain": [
       "<Figure size 640x480 with 1 Axes>"
      ]
     },
     "metadata": {},
     "output_type": "display_data"
    },
    {
     "name": "stdout",
     "output_type": "stream",
     "text": [
      "\n"
     ]
    }
   ],
   "source": [
    "import matplotlib.pyplot as plt\n",
    "plt.plot(epochs, acc, 'r', \"Training Accuracy\")\n",
    "plt.plot(epochs, val_acc, 'b', \"Validation Accuracy\")\n",
    "plt.title('Training and validation accuracy')\n",
    "plt.show()\n",
    "print(\"\")"
   ]
  },
  {
   "cell_type": "code",
   "execution_count": 33,
   "id": "47793f2f-59ac-4c8a-9e81-2d26a6ab213c",
   "metadata": {},
   "outputs": [
    {
     "data": {
      "image/png": "[encoded data removed]",
      "text/plain": [
       "<Figure size 640x480 with 1 Axes>"
      ]
     },
     "metadata": {},
     "output_type": "display_data"
    }
   ],
   "source": [
    "plt.plot(epochs, loss, 'r', \"Training Loss\")\n",
    "plt.plot(epochs, val_loss, 'b', \"Validation Loss\")\n",
    "plt.show()"
   ]
  },
  {
   "cell_type": "code",
   "execution_count": null,
   "id": "ca6f2746-b55f-4315-b42b-469fd577fba0",
   "metadata": {},
   "outputs": [],
   "source": []
  }
 ],
 "metadata": {
  "kernelspec": {
   "display_name": "Python 3 (ipykernel)",
   "language": "python",
   "name": "python3"
  },
  "language_info": {
   "codemirror_mode": {
    "name": "ipython",
    "version": 3
   },
   "file_extension": ".py",
   "mimetype": "text/x-python",
   "name": "python",
   "nbconvert_exporter": "python",
   "pygments_lexer": "ipython3",
   "version": "3.10.13"
  }
 },
 "nbformat": 4,
 "nbformat_minor": 5
}
